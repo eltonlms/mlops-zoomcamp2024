{
 "cells": [
  {
   "cell_type": "code",
   "execution_count": 1,
   "id": "c217d865-7628-40d5-8e24-594e37474a2a",
   "metadata": {},
   "outputs": [],
   "source": [
    "import pandas as pd"
   ]
  },
  {
   "cell_type": "markdown",
   "id": "b6c65e9f-be08-44a6-85b4-c579ca752727",
   "metadata": {},
   "source": [
    "# NYC TLC URL:\n",
    "https://www.nyc.gov/site/tlc/about/tlc-trip-record-data.page"
   ]
  },
  {
   "cell_type": "markdown",
   "id": "6d7746a4-b664-431a-a8a4-0583000353dd",
   "metadata": {
    "jp-MarkdownHeadingCollapsed": true
   },
   "source": [
    "# Q1. Downloading the data\n",
    "We'll use the same NYC taxi dataset, but instead of \"Green Taxi Trip Records\", we'll use \"Yellow Taxi Trip Records\".\n",
    "\n",
    "Download the data for January and February 2023.\n",
    "\n",
    "Read the data for January. How many columns are there?\n",
    "* 19"
   ]
  },
  {
   "cell_type": "code",
   "execution_count": 11,
   "id": "bc13752c-bc82-4a9f-8263-4c3a25dda6b9",
   "metadata": {},
   "outputs": [],
   "source": [
    "jan_23 = pd.read_parquet(\"https://d37ci6vzurychx.cloudfront.net/trip-data/yellow_tripdata_2023-01.parquet\")"
   ]
  },
  {
   "cell_type": "code",
   "execution_count": 12,
   "id": "9d16a397-de1e-4b5e-913c-c501e336c9bb",
   "metadata": {},
   "outputs": [
    {
     "data": {
      "text/plain": [
       "(3066766, 19)"
      ]
     },
     "execution_count": 12,
     "metadata": {},
     "output_type": "execute_result"
    }
   ],
   "source": [
    "jan_23.shape"
   ]
  },
  {
   "cell_type": "markdown",
   "id": "9913fba8-f92e-40a3-923e-1c2d8fd9e7c4",
   "metadata": {
    "jp-MarkdownHeadingCollapsed": true
   },
   "source": [
    "# Q2. Computing duration\n",
    "Now let's compute the duration variable. It should contain the duration of a ride in minutes.\n",
    "\n",
    "What's the standard deviation of the trips duration in January?\n",
    "* 42.59"
   ]
  },
  {
   "cell_type": "code",
   "execution_count": 19,
   "id": "c7312378-55d5-47fa-bc40-b7cf1c9c3f54",
   "metadata": {},
   "outputs": [
    {
     "data": {
      "text/plain": [
       "['DOLocationID',\n",
       " 'PULocationID',\n",
       " 'RatecodeID',\n",
       " 'VendorID',\n",
       " 'airport_fee',\n",
       " 'congestion_surcharge',\n",
       " 'duration',\n",
       " 'extra',\n",
       " 'fare_amount',\n",
       " 'improvement_surcharge',\n",
       " 'mta_tax',\n",
       " 'passenger_count',\n",
       " 'payment_type',\n",
       " 'store_and_fwd_flag',\n",
       " 'tip_amount',\n",
       " 'tolls_amount',\n",
       " 'total_amount',\n",
       " 'tpep_dropoff_datetime',\n",
       " 'tpep_pickup_datetime',\n",
       " 'trip_distance']"
      ]
     },
     "execution_count": 19,
     "metadata": {},
     "output_type": "execute_result"
    }
   ],
   "source": [
    "sorted(jan_23)"
   ]
  },
  {
   "cell_type": "code",
   "execution_count": 20,
   "id": "6cc7dc83-e0f6-4832-93f6-b695a7ca8eba",
   "metadata": {},
   "outputs": [],
   "source": [
    "jan_23['duration'] = jan_23['tpep_dropoff_datetime'] - jan_23['tpep_pickup_datetime']"
   ]
  },
  {
   "cell_type": "code",
   "execution_count": 21,
   "id": "0e61e6bf-6e11-457c-89a5-b380f18ff1b6",
   "metadata": {},
   "outputs": [
    {
     "data": {
      "text/plain": [
       "Timedelta('0 days 00:42:35.661074')"
      ]
     },
     "execution_count": 21,
     "metadata": {},
     "output_type": "execute_result"
    }
   ],
   "source": [
    "jan_23['duration'].std()"
   ]
  },
  {
   "cell_type": "code",
   "execution_count": null,
   "id": "d1af4638-7c3c-4cd7-a454-3c41c8797717",
   "metadata": {},
   "outputs": [],
   "source": []
  }
 ],
 "metadata": {
  "kernelspec": {
   "display_name": "Python 3 (ipykernel)",
   "language": "python",
   "name": "python3"
  },
  "language_info": {
   "codemirror_mode": {
    "name": "ipython",
    "version": 3
   },
   "file_extension": ".py",
   "mimetype": "text/x-python",
   "name": "python",
   "nbconvert_exporter": "python",
   "pygments_lexer": "ipython3",
   "version": "3.11.7"
  }
 },
 "nbformat": 4,
 "nbformat_minor": 5
}
